{
 "cells": [
  {
   "cell_type": "code",
   "execution_count": null,
   "id": "7d6b1e72",
   "metadata": {},
   "outputs": [],
   "source": [
    "pip install nltk"
   ]
  },
  {
   "cell_type": "code",
   "execution_count": null,
   "id": "6ad56940",
   "metadata": {},
   "outputs": [],
   "source": [
    "pip install scikit-learn"
   ]
  },
  {
   "cell_type": "code",
   "execution_count": null,
   "id": "2b4214ad",
   "metadata": {},
   "outputs": [],
   "source": [
    "import pandas as pd\n",
    "import numpy as np\n",
    "import string\n",
    "import nltk\n",
    "from nltk.corpus import stopwords\n",
    "from nltk.tokenize import word_tokenize\n",
    "from sklearn.model_selection import train_test_split"
   ]
  },
  {
   "cell_type": "code",
   "execution_count": null,
   "id": "549e3325",
   "metadata": {},
   "outputs": [],
   "source": [
    "# Load the dataset\n",
    "df = pd.read_csv('../data/complete_dataset_standardized.csv', sep=';')"
   ]
  },
  {
   "cell_type": "code",
   "execution_count": null,
   "id": "22dd616e",
   "metadata": {},
   "outputs": [],
   "source": [
    "df['id'] = range(1, len(df) + 1)"
   ]
  },
  {
   "cell_type": "code",
   "execution_count": null,
   "id": "6e00fdb4",
   "metadata": {},
   "outputs": [],
   "source": [
    "df['stratify_col'] = df['source'] + \"|\" + df['group']\n",
    "train_df, test_df = train_test_split(\n",
    "    df,\n",
    "    test_size=0.15,\n",
    "    stratify=df['stratify_col'],\n",
    "    random_state=42\n",
    ")\n",
    "\n",
    "print(\"Train sources:\", train_df['source'].value_counts(normalize=True))\n",
    "print(\"Test sources:\", test_df['source'].value_counts(normalize=True))\n",
    "\n",
    "print(\"Train labels (raw):\", train_df['group'].value_counts())\n",
    "print(\"Test labels (raw):\", test_df['group'].value_counts())"
   ]
  },
  {
   "cell_type": "code",
   "execution_count": null,
   "id": "7ccbe003",
   "metadata": {},
   "outputs": [],
   "source": [
    "test_df.to_csv(\"../data/evaluation_df2.csv\", sep=\";\")"
   ]
  },
  {
   "cell_type": "code",
   "execution_count": null,
   "id": "78d7a8ae",
   "metadata": {},
   "outputs": [],
   "source": [
    "train_df.to_csv(\"../data/challenge_df2.csv\", sep=\";\")"
   ]
  }
 ],
 "metadata": {
  "language_info": {
   "name": "python"
  }
 },
 "nbformat": 4,
 "nbformat_minor": 5
}
